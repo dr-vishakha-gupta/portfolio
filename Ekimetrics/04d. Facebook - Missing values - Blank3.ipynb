{
 "cells": [
  {
   "cell_type": "markdown",
   "id": "20f36f28-c8eb-4e21-bed4-1c3c575fc60e",
   "metadata": {},
   "source": [
    "## Read in Libraries"
   ]
  },
  {
   "cell_type": "code",
   "execution_count": 1,
   "id": "32f9b7ac",
   "metadata": {},
   "outputs": [],
   "source": [
    "from datetime import datetime\n",
    "import pandas as pd\n",
    "import numpy as np\n",
    "import warnings\n",
    "\n",
    "warnings.filterwarnings('ignore') "
   ]
  },
  {
   "cell_type": "markdown",
   "id": "ea52a25d-a873-45fc-9c33-332deea00146",
   "metadata": {},
   "source": [
    "## Defining import / export file paths"
   ]
  },
  {
   "cell_type": "code",
   "execution_count": 2,
   "id": "c58e81ce",
   "metadata": {},
   "outputs": [],
   "source": [
    "# STUDENT INPUT REQUIRED - Modify path directly below for location of the 04a. Facebook - Missing values - Raw data.csv file on your laptop/desktop\n",
    "raw_data_path = r'C:\\Users\\drvis\\Downloads\\MMM-2\\04a. Facebook - Missing values - Raw data.csv'\n",
    "\n",
    "export_data_path = 'C:/Users/drvis/Downloads/MMM-2/Processed Data/'\n",
    "file_name = 'final_facebook.csv'"
   ]
  },
  {
   "cell_type": "markdown",
   "id": "0357c856",
   "metadata": {},
   "source": [
    "## Read in Facebook/Instagram Spend and Impressions Data"
   ]
  },
  {
   "cell_type": "code",
   "execution_count": 3,
   "id": "8e6e6173",
   "metadata": {},
   "outputs": [
    {
     "data": {
      "text/plain": [
       "week_starting_date     object\n",
       "fbig_spend            float64\n",
       "fbig_imp              float64\n",
       "dtype: object"
      ]
     },
     "execution_count": 3,
     "metadata": {},
     "output_type": "execute_result"
    }
   ],
   "source": [
    "# This Python script loads data from a CSV file into a Pandas DataFrame called \"data_for_imputation.\"\n",
    "# Then, it outputs the data types of every column in the DataFrame using the \".dtypes\" property.\n",
    "# This code checks the data types of the columns in the DataFrame to see how the data is stored.\n",
    "\n",
    "data_for_imputation = pd.read_csv(raw_data_path)\n",
    "\n",
    "data_for_imputation.dtypes"
   ]
  },
  {
   "cell_type": "code",
   "execution_count": 4,
   "id": "3e2834b9",
   "metadata": {},
   "outputs": [
    {
     "name": "stdout",
     "output_type": "stream",
     "text": [
      "  week_starting_date  fbig_spend  fbig_imp\n",
      "0         2019-01-07         0.0       0.0\n",
      "1         2019-01-14         0.0       0.0\n",
      "2         2019-01-21         0.0       0.0\n",
      "3         2019-01-28         0.0       0.0\n",
      "4         2019-02-04         0.0       0.0\n",
      "5         2019-02-11         0.0       0.0\n",
      "6         2019-02-18         0.0       0.0\n",
      "7         2019-02-25         0.0       0.0\n",
      "8         2019-03-04         0.0       0.0\n",
      "9         2019-03-11         0.0       0.0\n"
     ]
    }
   ],
   "source": [
    "# Here the Python code to transform the \"week_starting_date\" column within the \"data_for_imputation\" DataFrame into datetime format using the \"pd.to_datetime()\" function.\n",
    "# Upon converting the column to datetime format, it can be valuable to examine the initial rows of the DataFrame to verify the conversion and gain a broad understanding of the data.\n",
    "\n",
    "data_for_imputation['week_starting_date'] = pd.to_datetime(data_for_imputation['week_starting_date'])\n",
    "\n",
    "# STUDENT INPUT REQUIRED - Use the head function to write code that prints out the first 10 rows of the data_for_imputation dataframe - HINT: see how head funtion used in separate Outdoor Campaigns python script\n",
    "\n",
    "print(data_for_imputation.head(10))"
   ]
  },
  {
   "cell_type": "code",
   "execution_count": 5,
   "id": "1509baee",
   "metadata": {},
   "outputs": [
    {
     "data": {
      "text/html": [
       "<div>\n",
       "<style scoped>\n",
       "    .dataframe tbody tr th:only-of-type {\n",
       "        vertical-align: middle;\n",
       "    }\n",
       "\n",
       "    .dataframe tbody tr th {\n",
       "        vertical-align: top;\n",
       "    }\n",
       "\n",
       "    .dataframe thead th {\n",
       "        text-align: right;\n",
       "    }\n",
       "</style>\n",
       "<table border=\"1\" class=\"dataframe\">\n",
       "  <thead>\n",
       "    <tr style=\"text-align: right;\">\n",
       "      <th></th>\n",
       "      <th>week_starting_date</th>\n",
       "      <th>fbig_spend</th>\n",
       "      <th>fbig_imp</th>\n",
       "    </tr>\n",
       "  </thead>\n",
       "  <tbody>\n",
       "    <tr>\n",
       "      <th>21</th>\n",
       "      <td>2019-06-03</td>\n",
       "      <td>13444.237150</td>\n",
       "      <td>0.0</td>\n",
       "    </tr>\n",
       "    <tr>\n",
       "      <th>22</th>\n",
       "      <td>2019-06-10</td>\n",
       "      <td>17661.095060</td>\n",
       "      <td>0.0</td>\n",
       "    </tr>\n",
       "    <tr>\n",
       "      <th>23</th>\n",
       "      <td>2019-06-17</td>\n",
       "      <td>5969.195235</td>\n",
       "      <td>0.0</td>\n",
       "    </tr>\n",
       "    <tr>\n",
       "      <th>24</th>\n",
       "      <td>2019-06-24</td>\n",
       "      <td>6456.339760</td>\n",
       "      <td>0.0</td>\n",
       "    </tr>\n",
       "  </tbody>\n",
       "</table>\n",
       "</div>"
      ],
      "text/plain": [
       "   week_starting_date    fbig_spend  fbig_imp\n",
       "21         2019-06-03  13444.237150       0.0\n",
       "22         2019-06-10  17661.095060       0.0\n",
       "23         2019-06-17   5969.195235       0.0\n",
       "24         2019-06-24   6456.339760       0.0"
      ]
     },
     "execution_count": 5,
     "metadata": {},
     "output_type": "execute_result"
    }
   ],
   "source": [
    "# This Python code selects rows from the data_for_imputation DataFrame where: - The `fbig_spend` column shows that money was spent on Facebook/Instagram ads (`fbig_spend > 0`) - The `fbig_imp` column shows that no impressions were recorded from these ads (`fbig_imp == 0`)\n",
    "# It uses the `.loc[]` method with boolean indexing. Within the `.loc[]` method, multiple conditions can be combined using the `&` operator for logical AND.\n",
    "# This code helps us find cases where money has been spent on Facebook/Instagram ads but no impressions were gained.\n",
    "\n",
    "data_for_imputation.loc[(data_for_imputation['fbig_spend']>0)&\n",
    "                                               (data_for_imputation['fbig_imp']==0)]"
   ]
  },
  {
   "cell_type": "markdown",
   "id": "c23e2ac3",
   "metadata": {},
   "source": [
    "## Use Overall cost per impression to impute missing impression values"
   ]
  },
  {
   "cell_type": "code",
   "execution_count": 6,
   "id": "a172bdcf",
   "metadata": {},
   "outputs": [
    {
     "name": "stdout",
     "output_type": "stream",
     "text": [
      "Cost per Impression : 0.006257490152210633\n"
     ]
    }
   ],
   "source": [
    "# This Python code computes the cost per impression for Facebook or Instagram ads.\n",
    "# It uses filtered data from the data_for_imputation DataFrame.\n",
    "# The filtered data, stored in data_for_imputation_filtered, includes only rows that have values for both impressions (fbig_imp column) and spending (fbig_spend column).\n",
    "# It excludes rows where either of these values is absent.\n",
    "# The cost per impression is calculated by dividing the total expenditure on Facebook or Instagram ads by the total number of impressions.\n",
    "# These values are computed from the filtered DataFrame by summing the values in the fbig_spend and fbig_imp columns, respectively.\n",
    "# This calculation results in the cost_per_imp_for_imputation variable.\n",
    "# The \"cost_per_imp_for_imputation\" variable calculates the average cost for each time an advertisement was viewed (impression).\n",
    "# It does this by dividing the total amount spent on Facebook/Instagram advertisements by the total number of times those ads were seen.\n",
    "# To get these values, it adds up the amounts spent (\"fbig_spend\") and the number of impressions (\"fbig_imp\") from the rows of the filtered \"data_for_imputation_filtered\" table.\n",
    "# It then divides the total spent by the total impressions. The line of code \"print('Cost per Impression : ' + str(cost_per_imp_for_imputation))\" displays the calculated cost per impression.\n",
    "# Overall, this code computes and displays the average cost of each impression for Facebook/Instagram advertisements using the data in the filtered table.\n",
    "# This helps understand how effectively the ad budget is being used on these platforms.\n",
    "\n",
    "\n",
    "data_for_imputation_filtered = (data_for_imputation.loc[(data_for_imputation['fbig_imp']>0)&\n",
    "                                                            (data_for_imputation['fbig_spend']>0)])\n",
    "\n",
    "\n",
    "cost_per_imp_for_imputation = (data_for_imputation_filtered['fbig_spend'].sum()/\n",
    "             data_for_imputation_filtered['fbig_imp'].sum()\n",
    "            )\n",
    "\n",
    "print('Cost per Impression : ' + str(cost_per_imp_for_imputation))"
   ]
  },
  {
   "cell_type": "code",
   "execution_count": 7,
   "id": "c21dbf0d",
   "metadata": {},
   "outputs": [],
   "source": [
    "# This Python code aims to impute missing values in the 'fbig_imp' column of the DataFrame data_for_imputation based on certain conditions.\n",
    "# The python code np.where()**, uses an element-wise check to compare **expenditure** in the `'fbig_spend'` column with 0, and checks for missing impressions (NaN) in the `'fbig_imp'` column.\n",
    "# If both conditions are true, it calculates impressions by dividing spend by the pre-determined \"cost per impression for imputation.\"\n",
    "# Otherwise, it keeps the original impression values.\n",
    "# data_for_imputation['fbig_imp']**: Stores the results of the conditional operation in the `'fbig_imp'` column.\n",
    "# data_for_imputation.set_index('week_starting_date')**: Sets the index of the `data_for_imputation` DataFrame to the `'week_starting_date'` column.\n",
    "# Overall, this code segment imputes missing values in the 'fbig_imp' column based on the calculated cost per impression and sets the index of the DataFrame for further analysis.\n",
    "\n",
    "data_for_imputation['fbig_imp'] = (np.where((data_for_imputation['fbig_spend']>0)\n",
    "                                                                          & (data_for_imputation['fbig_imp']==0),\n",
    "                                                                           data_for_imputation['fbig_spend']/cost_per_imp_for_imputation,\n",
    "                                                                           data_for_imputation['fbig_imp']\n",
    "                                                                 )\n",
    "                                                                 )\n",
    "\n",
    "data_for_imputation = data_for_imputation.set_index('week_starting_date')"
   ]
  },
  {
   "cell_type": "code",
   "execution_count": 8,
   "id": "bb0a04ab",
   "metadata": {},
   "outputs": [
    {
     "data": {
      "text/html": [
       "<div>\n",
       "<style scoped>\n",
       "    .dataframe tbody tr th:only-of-type {\n",
       "        vertical-align: middle;\n",
       "    }\n",
       "\n",
       "    .dataframe tbody tr th {\n",
       "        vertical-align: top;\n",
       "    }\n",
       "\n",
       "    .dataframe thead th {\n",
       "        text-align: right;\n",
       "    }\n",
       "</style>\n",
       "<table border=\"1\" class=\"dataframe\">\n",
       "  <thead>\n",
       "    <tr style=\"text-align: right;\">\n",
       "      <th></th>\n",
       "      <th>fbig_spend</th>\n",
       "      <th>fbig_imp</th>\n",
       "    </tr>\n",
       "    <tr>\n",
       "      <th>week_starting_date</th>\n",
       "      <th></th>\n",
       "      <th></th>\n",
       "    </tr>\n",
       "  </thead>\n",
       "  <tbody>\n",
       "  </tbody>\n",
       "</table>\n",
       "</div>"
      ],
      "text/plain": [
       "Empty DataFrame\n",
       "Columns: [fbig_spend, fbig_imp]\n",
       "Index: []"
      ]
     },
     "execution_count": 8,
     "metadata": {},
     "output_type": "execute_result"
    }
   ],
   "source": [
    "# This Python code targets the DataFrame named \"data_for_imputation\" to select specific rows that meet certain criteria.\n",
    "# It filters rows based on two conditions: 1. The expenditure on Facebook/Instagram ads (represented as \"fbig_spend\") must be greater than 0.\n",
    "# 2. The impressions related to those ads (represented as \"fbig_imp\") must be equal to 0.\n",
    "# The primary goal of this code is to identify scenarios where expenses were incurred for Facebook/Instagram ads but there were no corresponding impressions generated.\n",
    "\n",
    "data_for_imputation.loc[(data_for_imputation['fbig_spend']>0)&\n",
    "                                               (data_for_imputation['fbig_imp']==0)]"
   ]
  },
  {
   "cell_type": "code",
   "execution_count": 9,
   "id": "ad7f309e",
   "metadata": {},
   "outputs": [
    {
     "name": "stdout",
     "output_type": "stream",
     "text": [
      "Total Spend : 3271267.472244\n"
     ]
    }
   ],
   "source": [
    "# This Python code calculates and displays the overall amount spent on Facebook and Instagram advertising.\n",
    "# `data_for_imputation['fbig_spend'].sum()`: This part calculates the total value of the 'fbig_spend' column in the DataFrame `data_for_imputation`, representing the total money spent on Facebook/Instagram ads.\n",
    "# `print('Total Spend : ' + str(data_for_imputation['fbig_spend'].sum())`: This code prints out a message along with the calculated total cost of Facebook/Instagram ads.\n",
    "# This code helps understand and analyze the total amount spent on Facebook and Instagram advertising, providing valuable insights into the advertising budget for these platforms.\n",
    "\n",
    "print('Total Spend : ' + str(data_for_imputation['fbig_spend'].sum()))"
   ]
  },
  {
   "cell_type": "code",
   "execution_count": 10,
   "id": "2b1d5021-7469-4710-a6aa-80ae9f7a1aa0",
   "metadata": {},
   "outputs": [
    {
     "name": "stdout",
     "output_type": "stream",
     "text": [
      "Total Impressions : 522776287.7242937\n"
     ]
    }
   ],
   "source": [
    "# STUDENT INPUT REQUIRED - Create similar code as above to print and check impressions total sum\n",
    "\n",
    "print('Total Impressions : ' + str(data_for_imputation['fbig_imp'].sum()))"
   ]
  },
  {
   "cell_type": "markdown",
   "id": "cadfd2ee-23a3-451a-81f9-d31d8a10645e",
   "metadata": {},
   "source": [
    "## Export processed data"
   ]
  },
  {
   "cell_type": "code",
   "execution_count": 11,
   "id": "c77874de",
   "metadata": {},
   "outputs": [],
   "source": [
    "# This Python code saves the data from the data_for_imputation DataFrame to a CSV file named file_name.\n",
    "# The CSV file is stored in the directory specified by the export_data_path variable.\n",
    "# By exporting the data to a CSV file, you can save and share the data, import it into other programs, or perform further analysis on it.\n",
    "data_for_imputation.to_csv(export_data_path + file_name)"
   ]
  },
  {
   "cell_type": "code",
   "execution_count": null,
   "id": "199da374-04c3-4d45-9215-660f74ab2263",
   "metadata": {},
   "outputs": [],
   "source": []
  }
 ],
 "metadata": {
  "kernelspec": {
   "display_name": "Python 3 (ipykernel)",
   "language": "python",
   "name": "python3"
  },
  "language_info": {
   "codemirror_mode": {
    "name": "ipython",
    "version": 3
   },
   "file_extension": ".py",
   "mimetype": "text/x-python",
   "name": "python",
   "nbconvert_exporter": "python",
   "pygments_lexer": "ipython3",
   "version": "3.11.7"
  },
  "vscode": {
   "interpreter": {
    "hash": "829f8a924dbb286848138480efde3b946ad773cb919de7a1afee309cd95525df"
   }
  }
 },
 "nbformat": 4,
 "nbformat_minor": 5
}
